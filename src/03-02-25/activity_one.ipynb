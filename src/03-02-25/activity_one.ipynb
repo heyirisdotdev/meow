{
 "cells": [
  {
   "cell_type": "code",
   "execution_count": 2,
   "metadata": {},
   "outputs": [],
   "source": [
    "import pandas as pd \n",
    "\n",
    "df = pd.DataFrame({\n",
    "    'name': ['john', 'anna', 'peter', 'linda'],\n",
    "    'age': [28, 24, 35, 40],\n",
    "    'city': ['new york', 'paris', 'london', 'berlin']\n",
    "})"
   ]
  },
  {
   "cell_type": "code",
   "execution_count": 3,
   "metadata": {},
   "outputs": [
    {
     "name": "stdout",
     "output_type": "stream",
     "text": [
      "0        usa\n",
      "1     france\n",
      "2         uk\n",
      "3    germany\n",
      "Name: country, dtype: object\n"
     ]
    }
   ],
   "source": [
    "df['country'] = ['usa', 'france', 'uk', 'germany']\n",
    "print(df.country)"
   ]
  },
  {
   "cell_type": "code",
   "execution_count": 4,
   "metadata": {},
   "outputs": [
    {
     "name": "stdout",
     "output_type": "stream",
     "text": [
      "Index(['Full Name', 'Years', 'City Name', 'Nation'], dtype='object')\n"
     ]
    }
   ],
   "source": [
    "df.rename(columns={'name': 'Full Name', 'age': 'Years', 'city': 'City Name', 'country': 'Nation'}, inplace=True)\n",
    "print(df.columns)"
   ]
  },
  {
   "cell_type": "code",
   "execution_count": 5,
   "metadata": {},
   "outputs": [
    {
     "name": "stdout",
     "output_type": "stream",
     "text": [
      "Nation\n",
      "france     24.0\n",
      "germany    40.0\n",
      "uk         35.0\n",
      "usa        28.0\n",
      "Name: Years, dtype: float64\n"
     ]
    }
   ],
   "source": [
    "df = df.sort_values(by=['Nation'])\n",
    "print(df.groupby('Nation')['Years'].mean())"
   ]
  }
 ],
 "metadata": {
  "kernelspec": {
   "display_name": ".venv",
   "language": "python",
   "name": "python3"
  },
  "language_info": {
   "codemirror_mode": {
    "name": "ipython",
    "version": 3
   },
   "file_extension": ".py",
   "mimetype": "text/x-python",
   "name": "python",
   "nbconvert_exporter": "python",
   "pygments_lexer": "ipython3",
   "version": "3.12.6"
  }
 },
 "nbformat": 4,
 "nbformat_minor": 2
}
