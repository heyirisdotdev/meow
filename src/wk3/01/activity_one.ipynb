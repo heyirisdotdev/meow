{
 "cells": [
  {
   "cell_type": "code",
   "execution_count": 44,
   "metadata": {},
   "outputs": [],
   "source": [
    "import pandas as pd \n",
    "\n",
    "df = pd.DataFrame({\n",
    "    'name': ['john', 'anna', 'peter', 'linda'],\n",
    "    'age': [28, 24, 35, 40],\n",
    "    'city': ['new york', 'paris', 'london', 'berlin']\n",
    "})"
   ]
  },
  {
   "cell_type": "code",
   "execution_count": 45,
   "metadata": {},
   "outputs": [],
   "source": [
    "df['country'] = ['usa', 'france', 'uk', 'germany']"
   ]
  },
  {
   "cell_type": "code",
   "execution_count": 49,
   "metadata": {},
   "outputs": [
    {
     "name": "stdout",
     "output_type": "stream",
     "text": [
      "['john', 'anna', 'peter', 'linda']\n",
      "[28, 24, 35, 40]\n",
      "['new york', 'paris', 'london', 'berlin']\n",
      "['usa', 'france', 'uk', 'germany']\n",
      "\n",
      "    name  age      city  country\n",
      "0   john   28  new york      usa\n",
      "1   anna   24     paris   france\n",
      "2  peter   35    london       uk\n",
      "3  linda   40    berlin  germany\n"
     ]
    }
   ],
   "source": [
    "print(df[\"name\"].to_list())\n",
    "print(df[\"age\"].to_list())\n",
    "print(df[\"city\"].to_list())\n",
    "print(df[\"country\"].to_list())\n",
    "\n",
    "filtered = df[df[\"age\"] > 30]\n",
    "print(f\"\\n{df.head()}\")\n"
   ]
  },
  {
   "cell_type": "code",
   "execution_count": 37,
   "metadata": {
    "execution": {
     "iopub.execute_input": "2024-02-03T19:56:31.135383Z",
     "iopub.status.busy": "2024-02-03T19:56:31.135096Z",
     "iopub.status.idle": "2024-02-03T19:56:31.144604Z",
     "shell.execute_reply": "2024-02-03T19:56:31.144183Z"
    }
   },
   "outputs": [
    {
     "name": "stdout",
     "output_type": "stream",
     "text": [
      "['Full Name', 'Years', 'City Name', 'Nation']\n"
     ]
    }
   ],
   "source": [
    "df.rename(columns={'name': 'Full Name', 'age': 'Years', 'city': 'City Name', 'country': 'Nation'}, inplace=True)\n",
    "print(df.columns.to_list())"
   ]
  },
  {
   "cell_type": "code",
   "execution_count": 39,
   "metadata": {},
   "outputs": [
    {
     "name": "stdout",
     "output_type": "stream",
     "text": [
      "Nation\n",
      "france     24.0\n",
      "germany    40.0\n",
      "uk         35.0\n",
      "usa        28.0\n",
      "Name: Years, dtype: float64\n"
     ]
    }
   ],
   "source": [
    "df = df.sort_values(by=['Nation'])\n",
    "sorted = df.groupby('Nation')['Years'].mean()\n",
    "print(sorted.head())"
   ]
  }
 ],
 "metadata": {
  "kernelspec": {
   "display_name": ".venv",
   "language": "python",
   "name": "python3"
  },
  "language_info": {
   "codemirror_mode": {
    "name": "ipython",
    "version": 3
   },
   "file_extension": ".py",
   "mimetype": "text/x-python",
   "name": "python",
   "nbconvert_exporter": "python",
   "pygments_lexer": "ipython3",
   "version": "3.12.6"
  }
 },
 "nbformat": 4,
 "nbformat_minor": 2
}
