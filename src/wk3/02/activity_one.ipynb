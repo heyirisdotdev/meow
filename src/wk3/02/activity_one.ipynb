{
 "cells": [
  {
   "cell_type": "code",
   "execution_count": 7,
   "metadata": {},
   "outputs": [
    {
     "name": "stdout",
     "output_type": "stream",
     "text": [
      "      name  age         city\n",
      "0    alice   24     new york\n",
      "1     bob,   27  los angeles\n",
      "2  charlie   22      chicago\n",
      "3    david   32      houston\n",
      "4      eva   29      phoenix\n"
     ]
    }
   ],
   "source": [
    "import pandas as pd \n",
    "\n",
    "df = pd.DataFrame({\n",
    "    'name': [\"alice\", \"bob,\", \"charlie\", \"david\", \"eva\"],\n",
    "    'age': [24, 27, 22, 32, 29],\n",
    "    'city': [\"new york\", \"los angeles\", \"chicago\", \"houston\", \"phoenix\"]\n",
    "})\n",
    "print(df.head())"
   ]
  }
 ],
 "metadata": {
  "kernelspec": {
   "display_name": "Python 3",
   "language": "python",
   "name": "python3"
  },
  "language_info": {
   "codemirror_mode": {
    "name": "ipython",
    "version": 3
   },
   "file_extension": ".py",
   "mimetype": "text/x-python",
   "name": "python",
   "nbconvert_exporter": "python",
   "pygments_lexer": "ipython3",
   "version": "3.12.6"
  }
 },
 "nbformat": 4,
 "nbformat_minor": 2
}
